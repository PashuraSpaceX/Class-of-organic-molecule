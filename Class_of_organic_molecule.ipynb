{
  "nbformat": 4,
  "nbformat_minor": 0,
  "metadata": {
    "colab": {
      "provenance": []
    },
    "kernelspec": {
      "name": "python3",
      "display_name": "Python 3"
    },
    "language_info": {
      "name": "python"
    }
  },
  "cells": [
    {
      "cell_type": "code",
      "source": [
        "# import common bib\n",
        "import numpy as np\n",
        "import pandas as pd"
      ],
      "metadata": {
        "id": "UDnV8kDkhVBj"
      },
      "execution_count": null,
      "outputs": []
    },
    {
      "cell_type": "code",
      "source": [
        "#import bib for work on google docx\n",
        "from google.colab import drive\n",
        "drive.mount('/content/drive')"
      ],
      "metadata": {
        "colab": {
          "base_uri": "https://localhost:8080/"
        },
        "id": "3Lfcty7Kh0a0",
        "outputId": "fddcea39-52bf-4aa3-852a-ba6876439fe2"
      },
      "execution_count": null,
      "outputs": [
        {
          "output_type": "stream",
          "name": "stdout",
          "text": [
            "Drive already mounted at /content/drive; to attempt to forcibly remount, call drive.mount(\"/content/drive\", force_remount=True).\n"
          ]
        }
      ]
    },
    {
      "cell_type": "code",
      "source": [
        "!pip install --upgrade gspread"
      ],
      "metadata": {
        "colab": {
          "base_uri": "https://localhost:8080/"
        },
        "id": "_mht1tRakxKI",
        "outputId": "60a50321-468d-48fa-dd6f-cbacc28a467d"
      },
      "execution_count": null,
      "outputs": [
        {
          "output_type": "stream",
          "name": "stdout",
          "text": [
            "Looking in indexes: https://pypi.org/simple, https://us-python.pkg.dev/colab-wheels/public/simple/\n",
            "Requirement already satisfied: gspread in /usr/local/lib/python3.8/dist-packages (5.7.2)\n",
            "Requirement already satisfied: google-auth>=1.12.0 in /usr/local/lib/python3.8/dist-packages (from gspread) (2.16.0)\n",
            "Requirement already satisfied: google-auth-oauthlib>=0.4.1 in /usr/local/lib/python3.8/dist-packages (from gspread) (0.4.6)\n",
            "Requirement already satisfied: pyasn1-modules>=0.2.1 in /usr/local/lib/python3.8/dist-packages (from google-auth>=1.12.0->gspread) (0.2.8)\n",
            "Requirement already satisfied: six>=1.9.0 in /usr/local/lib/python3.8/dist-packages (from google-auth>=1.12.0->gspread) (1.15.0)\n",
            "Requirement already satisfied: cachetools<6.0,>=2.0.0 in /usr/local/lib/python3.8/dist-packages (from google-auth>=1.12.0->gspread) (5.2.1)\n",
            "Requirement already satisfied: rsa<5,>=3.1.4 in /usr/local/lib/python3.8/dist-packages (from google-auth>=1.12.0->gspread) (4.9)\n",
            "Requirement already satisfied: requests-oauthlib>=0.7.0 in /usr/local/lib/python3.8/dist-packages (from google-auth-oauthlib>=0.4.1->gspread) (1.3.1)\n",
            "Requirement already satisfied: pyasn1<0.5.0,>=0.4.6 in /usr/local/lib/python3.8/dist-packages (from pyasn1-modules>=0.2.1->google-auth>=1.12.0->gspread) (0.4.8)\n",
            "Requirement already satisfied: oauthlib>=3.0.0 in /usr/local/lib/python3.8/dist-packages (from requests-oauthlib>=0.7.0->google-auth-oauthlib>=0.4.1->gspread) (3.2.2)\n",
            "Requirement already satisfied: requests>=2.0.0 in /usr/local/lib/python3.8/dist-packages (from requests-oauthlib>=0.7.0->google-auth-oauthlib>=0.4.1->gspread) (2.25.1)\n",
            "Requirement already satisfied: idna<3,>=2.5 in /usr/local/lib/python3.8/dist-packages (from requests>=2.0.0->requests-oauthlib>=0.7.0->google-auth-oauthlib>=0.4.1->gspread) (2.10)\n",
            "Requirement already satisfied: certifi>=2017.4.17 in /usr/local/lib/python3.8/dist-packages (from requests>=2.0.0->requests-oauthlib>=0.7.0->google-auth-oauthlib>=0.4.1->gspread) (2022.12.7)\n",
            "Requirement already satisfied: chardet<5,>=3.0.2 in /usr/local/lib/python3.8/dist-packages (from requests>=2.0.0->requests-oauthlib>=0.7.0->google-auth-oauthlib>=0.4.1->gspread) (4.0.0)\n",
            "Requirement already satisfied: urllib3<1.27,>=1.21.1 in /usr/local/lib/python3.8/dist-packages (from requests>=2.0.0->requests-oauthlib>=0.7.0->google-auth-oauthlib>=0.4.1->gspread) (1.24.3)\n"
          ]
        }
      ]
    },
    {
      "cell_type": "code",
      "source": [
        "#import dataset and cut priority info\n",
        "#put ur dataset url in wb ()\n",
        "#put ur worksheet name in ws ()\n",
        "from google.colab import auth\n",
        "auth.authenticate_user()\n",
        "\n",
        "import gspread\n",
        "from google.auth import default\n",
        "creds, _ = default()\n",
        "\n",
        "gc = gspread.authorize(creds)\n",
        "\n",
        "wb = gc.open_by_url('https://docs.google.com/spreadsheets/d/1n0WwmvYFt0_kdvf4wkBepjKDC1j5Y58jKxb-b5LkeX8/edit#gid=506878057')\n",
        "ws = wb.worksheet('RESULTS.CSV')\n",
        "rows = ws.get_all_values()\n",
        "\n",
        "ds = pd.DataFrame.from_records(rows)\n",
        "\n",
        "ds.columns = ds.loc[6]\n",
        "ds = ds.loc[7:]"
      ],
      "metadata": {
        "id": "OKjMPuJhncXg"
      },
      "execution_count": null,
      "outputs": []
    },
    {
      "cell_type": "code",
      "execution_count": null,
      "metadata": {
        "id": "EZEXuPKygtU_"
      },
      "outputs": [],
      "source": [
        "#parsing url for SMILE \n",
        "from urllib.request import urlopen\n",
        "from urllib.parse import quote\n",
        "\n",
        "def CIRconvert(ids):\n",
        "    try:\n",
        "        url = 'http://cactus.nci.nih.gov/chemical/structure/' + quote(ids) + '/smiles'\n",
        "        ans = urlopen(url).read().decode('utf8')\n",
        "        return ans\n",
        "    except:\n",
        "        return 'Did not work'"
      ]
    },
    {
      "cell_type": "code",
      "source": [
        "# add SMILE column in original table \n",
        "ds['Smiles'] = ds['Library/ID'].apply(lambda x: CIRconvert(x))"
      ],
      "metadata": {
        "id": "k6LQLpK75R5K"
      },
      "execution_count": null,
      "outputs": []
    },
    {
      "cell_type": "code",
      "source": [
        "# create a dictionary with types of organic compounds \n",
        "# the order affects the main join class in the new column\n",
        "Classes_Org = {\n",
        "               'c3' : 'Three_Aroma',\n",
        "               'c2' : 'Bi_Aroma',\n",
        "               'c1' : 'Aroma',\n",
        "               'C3' : 'Three_Cyclo', \n",
        "               'C2' : 'Bi_Cyclo',\n",
        "               'C1' : 'Cyclo', \n",
        "               '#': 'Alkyne',\n",
        "               'c' : 'Aroma',\n",
        "               '=' : 'Alkene',\n",
        "               'S': 'S',\n",
        "               'N' : 'N',\n",
        "               '(C' : 'ISO',\n",
        "               'C' : 'Alkane',\n",
        "               }"
      ],
      "metadata": {
        "id": "Ll_S2LgKiylo"
      },
      "execution_count": null,
      "outputs": []
    },
    {
      "cell_type": "code",
      "source": [
        "#a function that iterates over the dictionary and extracts the main connection class from it \n",
        "#(the class that is in dictionary priority)\n",
        "def types_of(mol):\n",
        "  result = []\n",
        "  for i in Classes_Org:\n",
        "    if mol.find(i) != -1 and Classes_Org[i] not in result:\n",
        "      result.append(Classes_Org[i])\n",
        "  return result[0]"
      ],
      "metadata": {
        "id": "LeGHS01OeeOU"
      },
      "execution_count": null,
      "outputs": []
    },
    {
      "cell_type": "code",
      "source": [
        "#create type of organic compaund column in original table\n",
        "ds['type'] = ds['Smiles'].apply(lambda x : types_of(x))"
      ],
      "metadata": {
        "id": "nlLe7GBrALzQ"
      },
      "execution_count": null,
      "outputs": []
    },
    {
      "cell_type": "code",
      "source": [
        "#check new column\n",
        "print(ds['type'])"
      ],
      "metadata": {
        "colab": {
          "base_uri": "https://localhost:8080/"
        },
        "id": "dStRjQCJzIN7",
        "outputId": "630fe2fc-f2d8-4e07-d13a-f3836a2909c7"
      },
      "execution_count": null,
      "outputs": [
        {
          "output_type": "stream",
          "name": "stdout",
          "text": [
            "7      Alkene\n",
            "8      Alkene\n",
            "9         ISO\n",
            "10     Alkane\n",
            "11        ISO\n",
            "        ...  \n",
            "174    Alkane\n",
            "175    Alkane\n",
            "176    Alkane\n",
            "177    Alkane\n",
            "178    Alkane\n",
            "Name: type, Length: 172, dtype: object\n"
          ]
        }
      ]
    },
    {
      "cell_type": "code",
      "source": [
        "#download table\n",
        "#ds.to_excel(r'C:\\mydata.xlsx')"
      ],
      "metadata": {
        "id": "AOAUxGIo21Qw"
      },
      "execution_count": null,
      "outputs": []
    },
    {
      "cell_type": "code",
      "source": [
        "#check all table\n",
        "display(ds)"
      ],
      "metadata": {
        "colab": {
          "base_uri": "https://localhost:8080/",
          "height": 696
        },
        "id": "TiyQh9Li4T4F",
        "outputId": "ac70db85-8701-4164-9423-034acf990d43"
      },
      "execution_count": null,
      "outputs": [
        {
          "output_type": "display_data",
          "data": {
            "text/plain": [
              "6   Header=   PK       RT Area Pct                         Library/ID     Ref  \\\n",
              "7        1=    1   1.4770   0.0056                 Butanal, 2-methyl-    1943   \n",
              "8        2=    2   1.5307   0.0577  Octanamide, N-(2-butyl)-N-methyl-   84220   \n",
              "9        3=    3   1.7292   0.3673                  Butane, 2-methyl-     804   \n",
              "10       4=    4   1.8330   0.2918                            Pentane     800   \n",
              "11       5=    5   2.0456   0.0308              Butane, 2,2-dimethyl-    2032   \n",
              "..      ...  ...      ...      ...                                ...     ...   \n",
              "174    168=  168  25.4308   0.0743                        Pentadecane   83511   \n",
              "175    169=  169  26.6823   0.0377                         Hexadecane   98285   \n",
              "176    170=  170  27.3227   0.0210                         Hexacosane  242228   \n",
              "177    171=  171  28.1685   0.0533                        Heptadecane  112528   \n",
              "178    172=  172  30.0855   0.0212                         Octadecane  127049   \n",
              "\n",
              "6             CAS Qual                      Smiles    type  \n",
              "7     000096-17-3    9                   CCC(C)C=O  Alkene  \n",
              "8    1000458-72-7    9      CCCCCCCC(=O)N(C)C(C)CC  Alkene  \n",
              "9     000078-78-4   45                     CCC(C)C     ISO  \n",
              "10    000109-66-0   56                       CCCCC  Alkane  \n",
              "11    000075-83-2   83                  CCC(C)(C)C     ISO  \n",
              "..            ...  ...                         ...     ...  \n",
              "174   000629-62-9   97             CCCCCCCCCCCCCCC  Alkane  \n",
              "175   000544-76-3   96            CCCCCCCCCCCCCCCC  Alkane  \n",
              "176    0630-01-03   83  CCCCCCCCCCCCCCCCCCCCCCCCCC  Alkane  \n",
              "177   000629-78-7   96           CCCCCCCCCCCCCCCCC  Alkane  \n",
              "178   000593-45-3   97          CCCCCCCCCCCCCCCCCC  Alkane  \n",
              "\n",
              "[172 rows x 10 columns]"
            ],
            "text/html": [
              "\n",
              "  <div id=\"df-2c24b00c-5555-4a45-817c-c3b4142de171\">\n",
              "    <div class=\"colab-df-container\">\n",
              "      <div>\n",
              "<style scoped>\n",
              "    .dataframe tbody tr th:only-of-type {\n",
              "        vertical-align: middle;\n",
              "    }\n",
              "\n",
              "    .dataframe tbody tr th {\n",
              "        vertical-align: top;\n",
              "    }\n",
              "\n",
              "    .dataframe thead th {\n",
              "        text-align: right;\n",
              "    }\n",
              "</style>\n",
              "<table border=\"1\" class=\"dataframe\">\n",
              "  <thead>\n",
              "    <tr style=\"text-align: right;\">\n",
              "      <th>6</th>\n",
              "      <th>Header=</th>\n",
              "      <th>PK</th>\n",
              "      <th>RT</th>\n",
              "      <th>Area Pct</th>\n",
              "      <th>Library/ID</th>\n",
              "      <th>Ref</th>\n",
              "      <th>CAS</th>\n",
              "      <th>Qual</th>\n",
              "      <th>Smiles</th>\n",
              "      <th>type</th>\n",
              "    </tr>\n",
              "  </thead>\n",
              "  <tbody>\n",
              "    <tr>\n",
              "      <th>7</th>\n",
              "      <td>1=</td>\n",
              "      <td>1</td>\n",
              "      <td>1.4770</td>\n",
              "      <td>0.0056</td>\n",
              "      <td>Butanal, 2-methyl-</td>\n",
              "      <td>1943</td>\n",
              "      <td>000096-17-3</td>\n",
              "      <td>9</td>\n",
              "      <td>CCC(C)C=O</td>\n",
              "      <td>Alkene</td>\n",
              "    </tr>\n",
              "    <tr>\n",
              "      <th>8</th>\n",
              "      <td>2=</td>\n",
              "      <td>2</td>\n",
              "      <td>1.5307</td>\n",
              "      <td>0.0577</td>\n",
              "      <td>Octanamide, N-(2-butyl)-N-methyl-</td>\n",
              "      <td>84220</td>\n",
              "      <td>1000458-72-7</td>\n",
              "      <td>9</td>\n",
              "      <td>CCCCCCCC(=O)N(C)C(C)CC</td>\n",
              "      <td>Alkene</td>\n",
              "    </tr>\n",
              "    <tr>\n",
              "      <th>9</th>\n",
              "      <td>3=</td>\n",
              "      <td>3</td>\n",
              "      <td>1.7292</td>\n",
              "      <td>0.3673</td>\n",
              "      <td>Butane, 2-methyl-</td>\n",
              "      <td>804</td>\n",
              "      <td>000078-78-4</td>\n",
              "      <td>45</td>\n",
              "      <td>CCC(C)C</td>\n",
              "      <td>ISO</td>\n",
              "    </tr>\n",
              "    <tr>\n",
              "      <th>10</th>\n",
              "      <td>4=</td>\n",
              "      <td>4</td>\n",
              "      <td>1.8330</td>\n",
              "      <td>0.2918</td>\n",
              "      <td>Pentane</td>\n",
              "      <td>800</td>\n",
              "      <td>000109-66-0</td>\n",
              "      <td>56</td>\n",
              "      <td>CCCCC</td>\n",
              "      <td>Alkane</td>\n",
              "    </tr>\n",
              "    <tr>\n",
              "      <th>11</th>\n",
              "      <td>5=</td>\n",
              "      <td>5</td>\n",
              "      <td>2.0456</td>\n",
              "      <td>0.0308</td>\n",
              "      <td>Butane, 2,2-dimethyl-</td>\n",
              "      <td>2032</td>\n",
              "      <td>000075-83-2</td>\n",
              "      <td>83</td>\n",
              "      <td>CCC(C)(C)C</td>\n",
              "      <td>ISO</td>\n",
              "    </tr>\n",
              "    <tr>\n",
              "      <th>...</th>\n",
              "      <td>...</td>\n",
              "      <td>...</td>\n",
              "      <td>...</td>\n",
              "      <td>...</td>\n",
              "      <td>...</td>\n",
              "      <td>...</td>\n",
              "      <td>...</td>\n",
              "      <td>...</td>\n",
              "      <td>...</td>\n",
              "      <td>...</td>\n",
              "    </tr>\n",
              "    <tr>\n",
              "      <th>174</th>\n",
              "      <td>168=</td>\n",
              "      <td>168</td>\n",
              "      <td>25.4308</td>\n",
              "      <td>0.0743</td>\n",
              "      <td>Pentadecane</td>\n",
              "      <td>83511</td>\n",
              "      <td>000629-62-9</td>\n",
              "      <td>97</td>\n",
              "      <td>CCCCCCCCCCCCCCC</td>\n",
              "      <td>Alkane</td>\n",
              "    </tr>\n",
              "    <tr>\n",
              "      <th>175</th>\n",
              "      <td>169=</td>\n",
              "      <td>169</td>\n",
              "      <td>26.6823</td>\n",
              "      <td>0.0377</td>\n",
              "      <td>Hexadecane</td>\n",
              "      <td>98285</td>\n",
              "      <td>000544-76-3</td>\n",
              "      <td>96</td>\n",
              "      <td>CCCCCCCCCCCCCCCC</td>\n",
              "      <td>Alkane</td>\n",
              "    </tr>\n",
              "    <tr>\n",
              "      <th>176</th>\n",
              "      <td>170=</td>\n",
              "      <td>170</td>\n",
              "      <td>27.3227</td>\n",
              "      <td>0.0210</td>\n",
              "      <td>Hexacosane</td>\n",
              "      <td>242228</td>\n",
              "      <td>0630-01-03</td>\n",
              "      <td>83</td>\n",
              "      <td>CCCCCCCCCCCCCCCCCCCCCCCCCC</td>\n",
              "      <td>Alkane</td>\n",
              "    </tr>\n",
              "    <tr>\n",
              "      <th>177</th>\n",
              "      <td>171=</td>\n",
              "      <td>171</td>\n",
              "      <td>28.1685</td>\n",
              "      <td>0.0533</td>\n",
              "      <td>Heptadecane</td>\n",
              "      <td>112528</td>\n",
              "      <td>000629-78-7</td>\n",
              "      <td>96</td>\n",
              "      <td>CCCCCCCCCCCCCCCCC</td>\n",
              "      <td>Alkane</td>\n",
              "    </tr>\n",
              "    <tr>\n",
              "      <th>178</th>\n",
              "      <td>172=</td>\n",
              "      <td>172</td>\n",
              "      <td>30.0855</td>\n",
              "      <td>0.0212</td>\n",
              "      <td>Octadecane</td>\n",
              "      <td>127049</td>\n",
              "      <td>000593-45-3</td>\n",
              "      <td>97</td>\n",
              "      <td>CCCCCCCCCCCCCCCCCC</td>\n",
              "      <td>Alkane</td>\n",
              "    </tr>\n",
              "  </tbody>\n",
              "</table>\n",
              "<p>172 rows × 10 columns</p>\n",
              "</div>\n",
              "      <button class=\"colab-df-convert\" onclick=\"convertToInteractive('df-2c24b00c-5555-4a45-817c-c3b4142de171')\"\n",
              "              title=\"Convert this dataframe to an interactive table.\"\n",
              "              style=\"display:none;\">\n",
              "        \n",
              "  <svg xmlns=\"http://www.w3.org/2000/svg\" height=\"24px\"viewBox=\"0 0 24 24\"\n",
              "       width=\"24px\">\n",
              "    <path d=\"M0 0h24v24H0V0z\" fill=\"none\"/>\n",
              "    <path d=\"M18.56 5.44l.94 2.06.94-2.06 2.06-.94-2.06-.94-.94-2.06-.94 2.06-2.06.94zm-11 1L8.5 8.5l.94-2.06 2.06-.94-2.06-.94L8.5 2.5l-.94 2.06-2.06.94zm10 10l.94 2.06.94-2.06 2.06-.94-2.06-.94-.94-2.06-.94 2.06-2.06.94z\"/><path d=\"M17.41 7.96l-1.37-1.37c-.4-.4-.92-.59-1.43-.59-.52 0-1.04.2-1.43.59L10.3 9.45l-7.72 7.72c-.78.78-.78 2.05 0 2.83L4 21.41c.39.39.9.59 1.41.59.51 0 1.02-.2 1.41-.59l7.78-7.78 2.81-2.81c.8-.78.8-2.07 0-2.86zM5.41 20L4 18.59l7.72-7.72 1.47 1.35L5.41 20z\"/>\n",
              "  </svg>\n",
              "      </button>\n",
              "      \n",
              "  <style>\n",
              "    .colab-df-container {\n",
              "      display:flex;\n",
              "      flex-wrap:wrap;\n",
              "      gap: 12px;\n",
              "    }\n",
              "\n",
              "    .colab-df-convert {\n",
              "      background-color: #E8F0FE;\n",
              "      border: none;\n",
              "      border-radius: 50%;\n",
              "      cursor: pointer;\n",
              "      display: none;\n",
              "      fill: #1967D2;\n",
              "      height: 32px;\n",
              "      padding: 0 0 0 0;\n",
              "      width: 32px;\n",
              "    }\n",
              "\n",
              "    .colab-df-convert:hover {\n",
              "      background-color: #E2EBFA;\n",
              "      box-shadow: 0px 1px 2px rgba(60, 64, 67, 0.3), 0px 1px 3px 1px rgba(60, 64, 67, 0.15);\n",
              "      fill: #174EA6;\n",
              "    }\n",
              "\n",
              "    [theme=dark] .colab-df-convert {\n",
              "      background-color: #3B4455;\n",
              "      fill: #D2E3FC;\n",
              "    }\n",
              "\n",
              "    [theme=dark] .colab-df-convert:hover {\n",
              "      background-color: #434B5C;\n",
              "      box-shadow: 0px 1px 3px 1px rgba(0, 0, 0, 0.15);\n",
              "      filter: drop-shadow(0px 1px 2px rgba(0, 0, 0, 0.3));\n",
              "      fill: #FFFFFF;\n",
              "    }\n",
              "  </style>\n",
              "\n",
              "      <script>\n",
              "        const buttonEl =\n",
              "          document.querySelector('#df-2c24b00c-5555-4a45-817c-c3b4142de171 button.colab-df-convert');\n",
              "        buttonEl.style.display =\n",
              "          google.colab.kernel.accessAllowed ? 'block' : 'none';\n",
              "\n",
              "        async function convertToInteractive(key) {\n",
              "          const element = document.querySelector('#df-2c24b00c-5555-4a45-817c-c3b4142de171');\n",
              "          const dataTable =\n",
              "            await google.colab.kernel.invokeFunction('convertToInteractive',\n",
              "                                                     [key], {});\n",
              "          if (!dataTable) return;\n",
              "\n",
              "          const docLinkHtml = 'Like what you see? Visit the ' +\n",
              "            '<a target=\"_blank\" href=https://colab.research.google.com/notebooks/data_table.ipynb>data table notebook</a>'\n",
              "            + ' to learn more about interactive tables.';\n",
              "          element.innerHTML = '';\n",
              "          dataTable['output_type'] = 'display_data';\n",
              "          await google.colab.output.renderOutput(dataTable, element);\n",
              "          const docLink = document.createElement('div');\n",
              "          docLink.innerHTML = docLinkHtml;\n",
              "          element.appendChild(docLink);\n",
              "        }\n",
              "      </script>\n",
              "    </div>\n",
              "  </div>\n",
              "  "
            ]
          },
          "metadata": {}
        }
      ]
    }
  ]
}