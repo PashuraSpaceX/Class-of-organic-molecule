{
  "nbformat": 4,
  "nbformat_minor": 0,
  "metadata": {
    "colab": {
      "provenance": []
    },
    "kernelspec": {
      "name": "python3",
      "display_name": "Python 3"
    },
    "language_info": {
      "name": "python"
    }
  },
  "cells": [
    {
      "cell_type": "code",
      "source": [
        "# import common bib\n",
        "import numpy as np\n",
        "import pandas as pd\n",
        "from google.colab import auth\n",
        "auth.authenticate_user()\n",
        "\n",
        "import matplotlib.pyplot as plt\n",
        "\n",
        "import gspread\n",
        "from google.auth import default\n",
        "creds, _ = default()\n",
        "\n",
        "from urllib.request import urlopen\n",
        "from urllib.parse import quote\n",
        "\n",
        "from google.colab import drive\n",
        "drive.mount('/content/drive')\n",
        "\n",
        "import warnings\n",
        "warnings.filterwarnings(\"ignore\")\n",
        "\n",
        "!pip install --upgrade gspread"
      ],
      "metadata": {
        "id": "UDnV8kDkhVBj",
        "colab": {
          "base_uri": "https://localhost:8080/",
          "height": 555
        },
        "outputId": "1c89036a-8738-41f9-f32e-001c9959fbf7"
      },
      "execution_count": 1,
      "outputs": [
        {
          "output_type": "stream",
          "name": "stdout",
          "text": [
            "Mounted at /content/drive\n",
            "Looking in indexes: https://pypi.org/simple, https://us-python.pkg.dev/colab-wheels/public/simple/\n",
            "Requirement already satisfied: gspread in /usr/local/lib/python3.8/dist-packages (3.4.2)\n",
            "Collecting gspread\n",
            "  Downloading gspread-5.7.2-py3-none-any.whl (40 kB)\n",
            "\u001b[2K     \u001b[90m━━━━━━━━━━━━━━━━━━━━━━━━━━━━━━━━━━━━━━━━\u001b[0m \u001b[32m40.5/40.5 KB\u001b[0m \u001b[31m3.4 MB/s\u001b[0m eta \u001b[36m0:00:00\u001b[0m\n",
            "\u001b[?25hRequirement already satisfied: google-auth-oauthlib>=0.4.1 in /usr/local/lib/python3.8/dist-packages (from gspread) (0.4.6)\n",
            "Requirement already satisfied: google-auth>=1.12.0 in /usr/local/lib/python3.8/dist-packages (from gspread) (2.16.0)\n",
            "Requirement already satisfied: pyasn1-modules>=0.2.1 in /usr/local/lib/python3.8/dist-packages (from google-auth>=1.12.0->gspread) (0.2.8)\n",
            "Requirement already satisfied: six>=1.9.0 in /usr/local/lib/python3.8/dist-packages (from google-auth>=1.12.0->gspread) (1.15.0)\n",
            "Requirement already satisfied: cachetools<6.0,>=2.0.0 in /usr/local/lib/python3.8/dist-packages (from google-auth>=1.12.0->gspread) (5.2.1)\n",
            "Requirement already satisfied: rsa<5,>=3.1.4 in /usr/local/lib/python3.8/dist-packages (from google-auth>=1.12.0->gspread) (4.9)\n",
            "Requirement already satisfied: requests-oauthlib>=0.7.0 in /usr/local/lib/python3.8/dist-packages (from google-auth-oauthlib>=0.4.1->gspread) (1.3.1)\n",
            "Requirement already satisfied: pyasn1<0.5.0,>=0.4.6 in /usr/local/lib/python3.8/dist-packages (from pyasn1-modules>=0.2.1->google-auth>=1.12.0->gspread) (0.4.8)\n",
            "Requirement already satisfied: oauthlib>=3.0.0 in /usr/local/lib/python3.8/dist-packages (from requests-oauthlib>=0.7.0->google-auth-oauthlib>=0.4.1->gspread) (3.2.2)\n",
            "Requirement already satisfied: requests>=2.0.0 in /usr/local/lib/python3.8/dist-packages (from requests-oauthlib>=0.7.0->google-auth-oauthlib>=0.4.1->gspread) (2.25.1)\n",
            "Requirement already satisfied: certifi>=2017.4.17 in /usr/local/lib/python3.8/dist-packages (from requests>=2.0.0->requests-oauthlib>=0.7.0->google-auth-oauthlib>=0.4.1->gspread) (2022.12.7)\n",
            "Requirement already satisfied: urllib3<1.27,>=1.21.1 in /usr/local/lib/python3.8/dist-packages (from requests>=2.0.0->requests-oauthlib>=0.7.0->google-auth-oauthlib>=0.4.1->gspread) (1.24.3)\n",
            "Requirement already satisfied: idna<3,>=2.5 in /usr/local/lib/python3.8/dist-packages (from requests>=2.0.0->requests-oauthlib>=0.7.0->google-auth-oauthlib>=0.4.1->gspread) (2.10)\n",
            "Requirement already satisfied: chardet<5,>=3.0.2 in /usr/local/lib/python3.8/dist-packages (from requests>=2.0.0->requests-oauthlib>=0.7.0->google-auth-oauthlib>=0.4.1->gspread) (4.0.0)\n",
            "Installing collected packages: gspread\n",
            "  Attempting uninstall: gspread\n",
            "    Found existing installation: gspread 3.4.2\n",
            "    Uninstalling gspread-3.4.2:\n",
            "      Successfully uninstalled gspread-3.4.2\n",
            "Successfully installed gspread-5.7.2\n"
          ]
        },
        {
          "output_type": "display_data",
          "data": {
            "application/vnd.colab-display-data+json": {
              "pip_warning": {
                "packages": [
                  "gspread"
                ]
              }
            }
          },
          "metadata": {}
        }
      ]
    },
    {
      "cell_type": "code",
      "source": [
        "# create a dictionary with types of organic compounds \n",
        "# the order affects the main join class in the new column\n",
        "Classes_Org = {\n",
        "               'S': 'S',\n",
        "               'N' : 'N',\n",
        "               'c3' : 'Three_Aroma',\n",
        "               'c2' : 'Bi_Aroma',\n",
        "               'c1' : 'Aroma',\n",
        "               'C3' : 'Three_Cyclo', \n",
        "               'C2' : 'Bi_Cyclo',\n",
        "               'C1' : 'Cyclo', \n",
        "               '#': 'Alkyne',\n",
        "               'c' : 'Aroma',\n",
        "               '=' : 'Alkene',\n",
        "               '(C' : 'ISO',\n",
        "               'C' : 'Alkane',\n",
        "               \"unknown\" : \"unknown\"\n",
        "               }"
      ],
      "metadata": {
        "id": "Ll_S2LgKiylo"
      },
      "execution_count": 2,
      "outputs": []
    },
    {
      "cell_type": "code",
      "source": [
        "# Import Ur table in dictionary and give is name\n",
        "tables = {'758':'https://docs.google.com/spreadsheets/d/1rkQ6iacKAdCopgpLJvxYX-L0djXsEwHtcZUS-XKEaR0/edit?usp=sharing', #758\n",
        "          #name_dataframe : 'url_google_table'\n",
        "          } "
      ],
      "metadata": {
        "id": "-b447o7AHAaY"
      },
      "execution_count": 29,
      "outputs": []
    },
    {
      "cell_type": "code",
      "source": [
        "#First row with data\n",
        "first_row = 7"
      ],
      "metadata": {
        "id": "L_Yhz9VQ0S-J"
      },
      "execution_count": 30,
      "outputs": []
    },
    {
      "cell_type": "code",
      "source": [
        "def imoprt_table(url,sheet):\n",
        "  gc = gspread.authorize(creds)\n",
        "\n",
        "  wb = gc.open_by_url(url)\n",
        "  ws = wb.worksheet(sheet)\n",
        "  rows = ws.get_all_values()\n",
        "\n",
        "  ds = pd.DataFrame.from_records(rows)\n",
        "\n",
        "  ds.columns = ds.loc[6]\n",
        "  ds = ds.loc[first_row:]\n",
        "  print('Файл прочитан')\n",
        "  def CIRconvert(ids):\n",
        "    try:\n",
        "        url = 'http://cactus.nci.nih.gov/chemical/structure/' + quote(ids) + '/smiles'\n",
        "        ans = urlopen(url).read().decode('utf8')\n",
        "        return ans\n",
        "    except:\n",
        "        return \"unknown\" \n",
        "  \n",
        "  ds['Smiles'] = ds['Library/ID'].apply(lambda x: CIRconvert(x))\n",
        "  print(\"Подгрузил Smile\")\n",
        "\n",
        "  def types_of(mol):\n",
        "    result = []\n",
        "    for i in Classes_Org:\n",
        "      if mol.find(i) != -1 and Classes_Org[i] not in result:\n",
        "        result.append(Classes_Org[i])\n",
        "    return result[0]\n",
        "  print(\"Классификация соединения выполнена\")\n",
        "  ds['type'] = ds['Smiles'].apply(lambda x : types_of(x))\n",
        "  \n",
        "  def count_c(c):\n",
        "    result = c.count('C') + c.count('c')\n",
        "    return result\n",
        "  \n",
        "  ds['sum_c'] = ds['Smiles'].apply(lambda x : count_c(x))\n",
        "  print(\"Посчитал количество С\")\n",
        "\n",
        "  for i in ds['type'].unique():\n",
        "    ds[i] = 0\n",
        "  for i in range(len(ds)):\n",
        "    obj = ds.iloc[i]\n",
        "    stry = obj['type']\n",
        "    obj[stry] = obj['Area Pct']\n",
        "    ds.iloc[i] = obj \n",
        "\n",
        "  return ds"
      ],
      "metadata": {
        "id": "OKjMPuJhncXg"
      },
      "execution_count": 5,
      "outputs": []
    },
    {
      "cell_type": "code",
      "source": [
        "result = {}\n",
        "for i in tables:\n",
        "  print(\"Читаю фаил:\",i)\n",
        "  result[i] = imoprt_table(tables[i],'RESULTS.CSV')"
      ],
      "metadata": {
        "colab": {
          "base_uri": "https://localhost:8080/"
        },
        "id": "U95oJy1DH97Z",
        "outputId": "6e952013-b495-4c1f-a2ae-feb9c268eb74"
      },
      "execution_count": 6,
      "outputs": [
        {
          "output_type": "stream",
          "name": "stdout",
          "text": [
            "Читаю фаил: 758\n",
            "Файл прочитан\n",
            "Подгрузил Smile\n",
            "Классификация соединения выполнена\n",
            "Посчитал количество С\n"
          ]
        }
      ]
    },
    {
      "cell_type": "code",
      "source": [
        "def data_mine(file_name, type = None):\n",
        "  res=[]\n",
        "\n",
        "  for i in file_name:\n",
        "    if type == None:\n",
        "      res.extend(result[i]['sum_c'])\n",
        "    else:\n",
        "      res.extend(result[i][result[i]['type']==type]['sum_c'])\n",
        "  res = sorted(res)\n",
        "  pop = pd.DataFrame(data=res,columns = ['C'])\n",
        "  pop['count'] = 1\n",
        "  pop = pop.groupby(by='C').count()\n",
        "  return pop"
      ],
      "metadata": {
        "id": "1JVcl7BaHc8q"
      },
      "execution_count": 7,
      "outputs": []
    },
    {
      "cell_type": "code",
      "source": [
        "isx = data_mine(result,\"ISO\")\n",
        "fig = plt.figure(figsize=(12, 6))\n",
        "plt.plot(isx,label = 'Исходная нефть')\n",
        "plt.xlabel(\"Длинна цепи\")\n",
        "plt.ylabel(\"Количество соединений\")\n",
        "plt.title(\"Количество изоалканов в фракциях нефти\")\n",
        "plt.xlim(5,20)\n",
        "plt.ylim (0,8)\n",
        "plt.grid()\n",
        "plt.locator_params (axis='x', nbins= 20)"
      ],
      "metadata": {
        "colab": {
          "base_uri": "https://localhost:8080/",
          "height": 404
        },
        "id": "m54vSXOl1eQn",
        "outputId": "8c82cd9f-9452-42b2-8590-b886fc4289a5"
      },
      "execution_count": 28,
      "outputs": [
        {
          "output_type": "display_data",
          "data": {
            "text/plain": [
              "<Figure size 864x432 with 1 Axes>"
            ],
            "image/png": "[encoded data removed]"
          },
          "metadata": {
            "needs_background": "light"
          }
        }
      ]
    }
  ]
}